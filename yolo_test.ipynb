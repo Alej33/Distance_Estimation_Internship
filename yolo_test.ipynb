{
 "cells": [
  {
   "cell_type": "code",
   "execution_count": 2,
   "id": "0d64a4bf",
   "metadata": {},
   "outputs": [
    {
     "name": "stdout",
     "output_type": "stream",
     "text": [
      "truck\n",
      "1/1 [==============================] - 0s 109ms/step\n",
      "Predicted distance: [[1.9616903]]\n",
      "bicycle\n",
      "1/1 [==============================] - 0s 16ms/step\n",
      "Predicted distance: [[1.9616903]]\n",
      "dog\n",
      "1/1 [==============================] - 0s 18ms/step\n",
      "Predicted distance: [[1.9616903]]\n"
     ]
    }
   ],
   "source": [
    "import cv2\n",
    "import numpy as np\n",
    "from tensorflow.keras.models import load_model\n",
    "\n",
    "# Load your distance prediction model\n",
    "dist_model = load_model('distance_prediction_fine_tuned.h5')\n",
    "\n",
    "# Load YOLOv3\n",
    "net = cv2.dnn.readNet(\"yolov3.weights\", \"yolov3.cfg\") \n",
    "layer_names = net.getLayerNames()\n",
    "output_layers = [layer_names[i - 1] for i in net.getUnconnectedOutLayers()]\n",
    "\n",
    "# Load names of classes and get random colors\n",
    "classes = open('coco.names').read().strip().split('\\n')\n",
    "np.random.seed(42)\n",
    "colors = np.random.randint(0, 255, size=(len(classes), 3), dtype='uint8')\n",
    "\n",
    "# Load image\n",
    "img = cv2.imread(\"dog.jpg\") \n",
    "height, width, channels = img.shape\n",
    "\n",
    "# Detect objects\n",
    "blob = cv2.dnn.blobFromImage(img, 0.00392, (416, 416), (0, 0, 0), True, crop=False)\n",
    "net.setInput(blob)\n",
    "outs = net.forward(output_layers)\n",
    "\n",
    "# Show information on the screen\n",
    "class_ids = []\n",
    "confidences = []\n",
    "boxes = []\n",
    "for out in outs:\n",
    "    for detection in out:\n",
    "        scores = detection[5:]\n",
    "        class_id = np.argmax(scores)\n",
    "        confidence = scores[class_id]\n",
    "        if confidence > 0.5: \n",
    "            center_x = int(detection[0] * width)\n",
    "            center_y = int(detection[1] * height)\n",
    "            w = int(detection[2] * width)\n",
    "            h = int(detection[3] * height)\n",
    "            x = int(center_x - w / 2)\n",
    "            y = int(center_y - h / 2)\n",
    "            boxes.append([x, y, w, h])\n",
    "            confidences.append(float(confidence))\n",
    "            class_ids.append(class_id)\n",
    "\n",
    "indexes = cv2.dnn.NMSBoxes(boxes, confidences, 0.5, 0.4)\n",
    "\n",
    "for i in range(len(boxes)):\n",
    "    if i in indexes:\n",
    "        x, y, w, h = boxes[i]\n",
    "        label = str(classes[class_ids[i]])\n",
    "        print(label)\n",
    "        \n",
    "        # Extract larger region of interest centered around the object\n",
    "        roi_x = max(0, center_x - 448 // 2)\n",
    "        roi_y = max(0, center_y - 336 // 2)\n",
    "        roi_x_end = min(width, roi_x + 448)\n",
    "        roi_y_end = min(height, roi_y + 336)\n",
    "        \n",
    "        roi = img[roi_y:roi_y_end, roi_x:roi_x_end]\n",
    "        \n",
    "        # Resize ROI to model's expected input size if necessary\n",
    "        if roi.shape[0] != 448 or roi.shape[1] != 336:\n",
    "            roi = cv2.resize(roi, (336, 448)) \n",
    "\n",
    "        roi = np.expand_dims(roi, axis=0)\n",
    "        roi = roi / 255.0  # normalize pixel values if your model requires it\n",
    "        \n",
    "        # Predict the distance\n",
    "        distance = dist_model.predict(roi)\n",
    "        print('Predicted distance:', distance)\n",
    "\n"
   ]
  },
  {
   "cell_type": "code",
   "execution_count": 9,
   "id": "0812e9a9",
   "metadata": {},
   "outputs": [
    {
     "data": {
      "text/plain": [
       "True"
      ]
     },
     "execution_count": 9,
     "metadata": {},
     "output_type": "execute_result"
    }
   ],
   "source": [
    "font = cv2.FONT_HERSHEY_PLAIN\n",
    "for i in range(len(boxes)):\n",
    "    if i in indexes:\n",
    "        x, y, w, h = boxes[i]\n",
    "        label = str(classes[class_ids[i]])\n",
    "        color = tuple(map(int, colors[class_ids[i]]))  # convert np.array to tuple\n",
    "        cv2.rectangle(img, (x, y), (x + w, y + h), color, 2)\n",
    "        cv2.putText(img, label, (x, y - 5), font, 1, color, 1)\n",
    "\n",
    "cv2.imwrite('output.jpg', img)  # save the image\n"
   ]
  },
  {
   "cell_type": "code",
   "execution_count": null,
   "id": "3a3e850d",
   "metadata": {},
   "outputs": [],
   "source": []
  }
 ],
 "metadata": {
  "kernelspec": {
   "display_name": "Python 3 (ipykernel)",
   "language": "python",
   "name": "python3"
  },
  "language_info": {
   "codemirror_mode": {
    "name": "ipython",
    "version": 3
   },
   "file_extension": ".py",
   "mimetype": "text/x-python",
   "name": "python",
   "nbconvert_exporter": "python",
   "pygments_lexer": "ipython3",
   "version": "3.9.13"
  }
 },
 "nbformat": 4,
 "nbformat_minor": 5
}
